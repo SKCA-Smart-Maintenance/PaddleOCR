{
  "nbformat": 4,
  "nbformat_minor": 0,
  "metadata": {
    "colab": {
      "provenance": [],
      "authorship_tag": "ABX9TyNKAIhEtIEWDOeD7gweqNbD",
      "include_colab_link": true
    },
    "kernelspec": {
      "name": "python3",
      "display_name": "Python 3"
    },
    "language_info": {
      "name": "python"
    }
  },
  "cells": [
    {
      "cell_type": "markdown",
      "metadata": {
        "id": "view-in-github",
        "colab_type": "text"
      },
      "source": [
        "<a href=\"https://colab.research.google.com/github/SKCA-Smart-Maintenance/PaddleOCR/blob/main/PaddleOCR.ipynb\" target=\"_parent\"><img src=\"https://colab.research.google.com/assets/colab-badge.svg\" alt=\"Open In Colab\"/></a>"
      ]
    },
    {
      "cell_type": "code",
      "source": [
        "from google.colab import drive\n",
        "drive.mount('/content/drive')"
      ],
      "metadata": {
        "colab": {
          "base_uri": "https://localhost:8080/"
        },
        "id": "RqDXx_c0s7n3",
        "outputId": "b082fd2e-ec87-437a-a93e-738ab5ca7fc5"
      },
      "execution_count": 4,
      "outputs": [
        {
          "output_type": "stream",
          "name": "stdout",
          "text": [
            "Mounted at /content/drive\n"
          ]
        }
      ]
    },
    {
      "cell_type": "code",
      "source": [
        "%cd /content/drive/MyDrive/"
      ],
      "metadata": {
        "colab": {
          "base_uri": "https://localhost:8080/"
        },
        "id": "pmsgEyxd1Ia6",
        "outputId": "1e52a0f6-cc15-4e47-d303-0b31ce4be6cd"
      },
      "execution_count": 5,
      "outputs": [
        {
          "output_type": "stream",
          "name": "stdout",
          "text": [
            "/content/drive/MyDrive\n"
          ]
        }
      ]
    },
    {
      "cell_type": "code",
      "source": [
        "!git clone https://github.com/PaddlePaddle/PaddleOCR.git"
      ],
      "metadata": {
        "colab": {
          "base_uri": "https://localhost:8080/"
        },
        "id": "dX898xey2VvJ",
        "outputId": "f746caac-dee3-438a-b09e-e60af40f3949"
      },
      "execution_count": 6,
      "outputs": [
        {
          "output_type": "stream",
          "name": "stdout",
          "text": [
            "Cloning into 'PaddleOCR'...\n",
            "remote: Enumerating objects: 91427, done.\u001b[K\n",
            "remote: Counting objects: 100% (3967/3967), done.\u001b[K\n",
            "remote: Compressing objects: 100% (555/555), done.\u001b[K\n",
            "remote: Total 91427 (delta 3563), reused 3741 (delta 3412), pack-reused 87460 (from 3)\u001b[K\n",
            "Receiving objects: 100% (91427/91427), 586.57 MiB | 12.30 MiB/s, done.\n",
            "Resolving deltas: 100% (69213/69213), done.\n",
            "Updating files: 100% (2023/2023), done.\n"
          ]
        }
      ]
    },
    {
      "cell_type": "code",
      "source": [
        "%cd PaddleOCR/\n",
        "!pip install -q -r requirements.txt\n",
        "!pip install -q paddlepaddle-gpu paddlenlp paddleocr\n",
        "#!pip install -q paddlepaddle paddlenlp paddleocr"
      ],
      "metadata": {
        "colab": {
          "base_uri": "https://localhost:8080/"
        },
        "id": "z6ksyOfb3bm4",
        "outputId": "e878da4f-b297-4ca7-88f6-ed0992476df9"
      },
      "execution_count": 12,
      "outputs": [
        {
          "output_type": "stream",
          "name": "stdout",
          "text": [
            "[Errno 2] No such file or directory: 'PaddleOCR/'\n",
            "/content/drive/MyDrive/PaddleOCR\n"
          ]
        }
      ]
    },
    {
      "cell_type": "code",
      "source": [
        "!mkdir -p MyFolder/{pretrain_models/{det,rec},data_set,configs/{det,rec}}"
      ],
      "metadata": {
        "id": "edMq1rVX36e0"
      },
      "execution_count": 11,
      "outputs": []
    }
  ]
}